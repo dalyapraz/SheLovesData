{
  "nbformat": 4,
  "nbformat_minor": 0,
  "metadata": {
    "colab": {
      "name": "(my copy) SLD Workshop with Python (Part 1).ipynb",
      "provenance": [],
      "collapsed_sections": [
        "-q313Mj1NCtc",
        "sS6f3NnvQM3W"
      ],
      "include_colab_link": true
    },
    "kernelspec": {
      "name": "python3",
      "display_name": "Python 3"
    }
  },
  "cells": [
    {
      "cell_type": "markdown",
      "metadata": {
        "id": "view-in-github",
        "colab_type": "text"
      },
      "source": [
        "<a href=\"https://colab.research.google.com/github/dalyapraz/SheLovesData/blob/master/(my_copy)_SLD_Workshop_with_Python_(Part_1).ipynb\" target=\"_parent\"><img src=\"https://colab.research.google.com/assets/colab-badge.svg\" alt=\"Open In Colab\"/></a>"
      ]
    },
    {
      "cell_type": "markdown",
      "metadata": {
        "id": "ofNjHEe1r_jC",
        "colab_type": "text"
      },
      "source": [
        "![SheLovesData](https://shelovesdata.com/wp-content/uploads/2018/06/she-loves-data-wide@2xv2.png)\n",
        "\n",
        "# Introduction to Python programming"
      ]
    },
    {
      "cell_type": "markdown",
      "metadata": {
        "id": "wMW6WQFgy9kS",
        "colab_type": "text"
      },
      "source": [
        "## Your First Program\n",
        "\n",
        "\n",
        "\n",
        "```\n",
        "print(\"Hello World\")\n",
        "```\n",
        "\n",
        "Type the above code into the cell below and click the small **play** button to run the code\n"
      ]
    },
    {
      "cell_type": "code",
      "metadata": {
        "id": "5cI2A46By9UC",
        "colab_type": "code",
        "outputId": "611e0f42-2e2a-431c-8c4c-65ca426b91b9",
        "colab": {
          "base_uri": "https://localhost:8080/",
          "height": 34
        }
      },
      "source": [
        ""
      ],
      "execution_count": 0,
      "outputs": [
        {
          "output_type": "stream",
          "text": [
            "Hello World\n"
          ],
          "name": "stdout"
        }
      ]
    },
    {
      "cell_type": "markdown",
      "metadata": {
        "id": "1oOOJBAGsDon",
        "colab_type": "text"
      },
      "source": [
        "## 1.Variables and Fundamental types"
      ]
    },
    {
      "cell_type": "markdown",
      "metadata": {
        "id": "EV8COtvmsRM_",
        "colab_type": "text"
      },
      "source": [
        "**1.1** Variables\n",
        "\n",
        "---\n",
        "\n",
        "\n",
        "\n",
        "Variables are containers for storing data values.\n",
        "A variable is created the moment you first assign a value to it and it will be stored in this container until you assign a new value to it."
      ]
    },
    {
      "cell_type": "code",
      "metadata": {
        "id": "xcXS4AFUydPf",
        "colab_type": "code",
        "colab": {}
      },
      "source": [
        "# variable assignments\n",
        "x = 1.0\n",
        "number = 1\n",
        "words = \"Welcome to SheLovesData Workshop \""
      ],
      "execution_count": 0,
      "outputs": []
    },
    {
      "cell_type": "markdown",
      "metadata": {
        "id": "mYBIr9gar9VL",
        "colab_type": "text"
      },
      "source": [
        "Now let's `print` the result. Once you assign the variable you can access it anytime down the code\n",
        "\n",
        "*Note: you can type comments in the code, start with a `#`, and Python will ignore them*"
      ]
    },
    {
      "cell_type": "code",
      "metadata": {
        "id": "7hJu-MWLyw__",
        "colab_type": "code",
        "outputId": "d57474e9-170c-4fe4-eb65-53e3a255eb60",
        "colab": {
          "base_uri": "https://localhost:8080/",
          "height": 68
        }
      },
      "source": [
        "# <---- this is comment\n",
        "print(x) \n",
        "print(number)\n",
        "print(words)"
      ],
      "execution_count": 0,
      "outputs": [
        {
          "output_type": "stream",
          "text": [
            "1.0\n",
            "1\n",
            "Welcome to SheLovesData Workshop \n"
          ],
          "name": "stdout"
        }
      ]
    },
    {
      "cell_type": "markdown",
      "metadata": {
        "id": "3M-2QEUXu21A",
        "colab_type": "text"
      },
      "source": [
        "**Task:** \n",
        "\n",
        "1.   Assign a value of your name to a new variable **`name`**\n",
        "2.   And **`print`** your name"
      ]
    },
    {
      "cell_type": "code",
      "metadata": {
        "id": "GLXJjXvK3v5n",
        "colab_type": "code",
        "colab": {}
      },
      "source": [
        ""
      ],
      "execution_count": 0,
      "outputs": []
    },
    {
      "cell_type": "markdown",
      "metadata": {
        "id": "8ua8bQuZAZA7",
        "colab_type": "text"
      },
      "source": [
        "Some rules for variable names:"
      ]
    },
    {
      "cell_type": "code",
      "metadata": {
        "id": "YDGdz4-nAXyz",
        "colab_type": "code",
        "colab": {}
      },
      "source": [
        "#Legal variable names:\n",
        "myvar = \"John\"        # letters\n",
        "my_var = \"John\"       # underscore between letters\n",
        "_my_var = \"John\"      # underscore at the beginning\n",
        "myVar = \"John\"        # caps\n",
        "MYVAR = \"John\"        # all caps\n",
        "myvar2 = \"John\"       # mix with numbers\n",
        "\n",
        "# Note: Python is case sensitive, meaning myvar and myVar are not the same variables\n",
        "\n",
        "#Illegal variable names:\n",
        "2myvar = \"John\"\n",
        "my var = \"John\"\n",
        "my-var = \"John\"\n",
        "my%var = \"John\""
      ],
      "execution_count": 0,
      "outputs": []
    },
    {
      "cell_type": "markdown",
      "metadata": {
        "id": "E27ONWejwX-m",
        "colab_type": "text"
      },
      "source": [
        "**1.2** Data Types\n",
        "\n",
        "---\n",
        "\n",
        "\n",
        "\n",
        "In programming, data type is an important concept.\n",
        "\n",
        "Variables can store data of different types, and different types can do different things.\n",
        "\n",
        "Python has the following data types built-in by default, in these categories:\n",
        "\n",
        "*   **Numeric Types**:\tint, float, *complex*\n",
        "*   **Text Type**:\tstr\n",
        "*   **Boolean Type**:\tbool\n",
        "*   **Sequence Types**:\tlist, *tuple, range*\n",
        "*   *Mapping Type*:\t*dict*\n",
        "\n"
      ]
    },
    {
      "cell_type": "markdown",
      "metadata": {
        "id": "1fhKEscxxbTK",
        "colab_type": "text"
      },
      "source": [
        "Let's check what types are our variables"
      ]
    },
    {
      "cell_type": "code",
      "metadata": {
        "id": "eqPMaflJxWBU",
        "colab_type": "code",
        "outputId": "ce07a04f-67e8-4e92-e47d-b9efe8a52a78",
        "colab": {
          "base_uri": "https://localhost:8080/",
          "height": 51
        }
      },
      "source": [
        "print(x, type(x))\n",
        "print(number,type(number))"
      ],
      "execution_count": 0,
      "outputs": [
        {
          "output_type": "stream",
          "text": [
            "1.0 <class 'float'>\n",
            "1 <class 'int'>\n"
          ],
          "name": "stdout"
        }
      ]
    },
    {
      "cell_type": "markdown",
      "metadata": {
        "id": "N2GZ9LyuyHNP",
        "colab_type": "text"
      },
      "source": [
        "**Task:**\n",
        "\n",
        "Check what type is your variable with your name in it"
      ]
    },
    {
      "cell_type": "code",
      "metadata": {
        "id": "Wk1iseGKyDIU",
        "colab_type": "code",
        "outputId": "d66e1ce1-9961-4486-b257-ffceabd4e00d",
        "colab": {
          "base_uri": "https://localhost:8080/",
          "height": 34
        }
      },
      "source": [
        ""
      ],
      "execution_count": 0,
      "outputs": [
        {
          "output_type": "stream",
          "text": [
            "Dalya <class 'str'>\n"
          ],
          "name": "stdout"
        }
      ]
    },
    {
      "cell_type": "markdown",
      "metadata": {
        "id": "-cSHgZxVz_uf",
        "colab_type": "text"
      },
      "source": [
        "**Booleans**\n",
        "\n",
        "\n",
        "Booleans represent one of two values: **`True`** or **`False`**."
      ]
    },
    {
      "cell_type": "code",
      "metadata": {
        "id": "pm-PDCOZ0LnZ",
        "colab_type": "code",
        "outputId": "8dc08c05-f5bc-4ad4-90f3-6ab0a1ff34a3",
        "colab": {
          "base_uri": "https://localhost:8080/",
          "height": 34
        }
      },
      "source": [
        "# boolean\n",
        "b1 = True\n",
        "b2 = False\n",
        "\n",
        "type(b1)"
      ],
      "execution_count": 0,
      "outputs": [
        {
          "output_type": "execute_result",
          "data": {
            "text/plain": [
              "str"
            ]
          },
          "metadata": {
            "tags": []
          },
          "execution_count": 1
        }
      ]
    },
    {
      "cell_type": "markdown",
      "metadata": {
        "id": "ZhP74tBX1xPT",
        "colab_type": "text"
      },
      "source": [
        "**Lists**\n",
        "\n",
        "\n",
        "There are several collection data types in the Python programming language, but we will cover **lists** only. \n",
        "\n",
        "*  **List** is a collection which is ordered and changeable. Allows duplicate members.\n",
        "*  **Tuple** is a collection which is ordered and unchangeable. Allows duplicate members.\n",
        "*  **Set** is a collection which is unordered and unindexed. No duplicate members.\n",
        "*  **Dictionary** is a collection which is unordered, changeable and indexed. No duplicate members.\n",
        "\n",
        "\n",
        "**Lists** are very similar to strings, except that each element can be of any type. In Python **lists** are written with square `[ ]` brackets:\n"
      ]
    },
    {
      "cell_type": "code",
      "metadata": {
        "id": "bOWWBbhA0dEc",
        "colab_type": "code",
        "outputId": "3e57e0f5-e388-40bd-a317-64bd2080c0f6",
        "colab": {
          "base_uri": "https://localhost:8080/",
          "height": 34
        }
      },
      "source": [
        "fruits = [\"apple\", \"banana\", \"cherry\"]\n",
        "print(fruits)"
      ],
      "execution_count": 0,
      "outputs": [
        {
          "output_type": "stream",
          "text": [
            "['apple', 'banana', 'cherry']\n"
          ],
          "name": "stdout"
        }
      ]
    },
    {
      "cell_type": "markdown",
      "metadata": {
        "id": "HjfVboH43qa6",
        "colab_type": "text"
      },
      "source": [
        "**Task**\n",
        "\n",
        "Make a list of your favorite colors and name the list **`my_colors`**. \n",
        "\n",
        "**`print`** your list.\n"
      ]
    },
    {
      "cell_type": "code",
      "metadata": {
        "id": "j3c1yhGg3p5f",
        "colab_type": "code",
        "colab": {}
      },
      "source": [
        ""
      ],
      "execution_count": 0,
      "outputs": []
    },
    {
      "cell_type": "markdown",
      "metadata": {
        "id": "byHJIr2I5zBo",
        "colab_type": "text"
      },
      "source": [
        "## 2.Operators and comparisons"
      ]
    },
    {
      "cell_type": "markdown",
      "metadata": {
        "id": "nswEinl55_Mu",
        "colab_type": "text"
      },
      "source": [
        "Most operators and comparisons in Python work as we would expect:\n",
        "\n",
        "**Arithmetic operators:**\n",
        "<table><thead>\n",
        "<tr>\n",
        "<th style=\"text-align: center\">Operator</th>\n",
        "<th>What it means</th>\n",
        "</tr>\n",
        "</thead><tbody>\n",
        "<tr>\n",
        "<td style=\"text-align: center\">+</td>\n",
        "<td>Addition</td>\n",
        "</tr>\n",
        "<tr>\n",
        "<td style=\"text-align: center\">-</td>\n",
        "<td>Subtraction</td>\n",
        "</tr>\n",
        "<tr>\n",
        "<td style=\"text-align: center\">*</td>\n",
        "<td>Multiplication</td>\n",
        "</tr>\n",
        "<tr>\n",
        "<td style=\"text-align: center\">/</td>\n",
        "<td>Division</td>\n",
        "</tr>\n",
        "<tr>\n",
        "<td style=\"text-align: center\">**</td>\n",
        "<td>Exponentiation</td>\n",
        "</tr>\n",
        "<tr>\n",
        "</tbody></table>"
      ]
    },
    {
      "cell_type": "code",
      "metadata": {
        "id": "8tmS6irF5-i9",
        "colab_type": "code",
        "outputId": "5f5da02f-1b4c-46fd-c0a8-57c0ca175d01",
        "colab": {
          "base_uri": "https://localhost:8080/",
          "height": 34
        }
      },
      "source": [
        "# Addition\n",
        "x = 2\n",
        "y = 3\n",
        "print(x+y)"
      ],
      "execution_count": 0,
      "outputs": [
        {
          "output_type": "stream",
          "text": [
            "5\n"
          ],
          "name": "stdout"
        }
      ]
    },
    {
      "cell_type": "code",
      "metadata": {
        "id": "J62lRhcm8doI",
        "colab_type": "code",
        "outputId": "b6f7b4d3-e07a-4b27-cdf6-259af2c82852",
        "colab": {
          "base_uri": "https://localhost:8080/",
          "height": 34
        }
      },
      "source": [
        "# Note! The power operators in python isn't ^, but **\n",
        "\n",
        "print(x**y)"
      ],
      "execution_count": 0,
      "outputs": [
        {
          "output_type": "stream",
          "text": [
            "8\n"
          ],
          "name": "stdout"
        }
      ]
    },
    {
      "cell_type": "markdown",
      "metadata": {
        "id": "iqQzf0Cv7nhu",
        "colab_type": "text"
      },
      "source": [
        "**Task**\n",
        "\n",
        "Try a different operation."
      ]
    },
    {
      "cell_type": "code",
      "metadata": {
        "id": "2pHERAgu7ztX",
        "colab_type": "code",
        "outputId": "8d2a461c-b0b1-4025-9594-4d7cbb1ae7ec",
        "colab": {
          "base_uri": "https://localhost:8080/",
          "height": 34
        }
      },
      "source": [
        ""
      ],
      "execution_count": 0,
      "outputs": [
        {
          "output_type": "stream",
          "text": [
            "-1\n"
          ],
          "name": "stdout"
        }
      ]
    },
    {
      "cell_type": "markdown",
      "metadata": {
        "id": "negoeIcZ5kLX",
        "colab_type": "text"
      },
      "source": [
        "You can even add two **`strings`**"
      ]
    },
    {
      "cell_type": "code",
      "metadata": {
        "id": "1JNvtJuI55V1",
        "colab_type": "code",
        "outputId": "dc84552e-e7b4-46a6-e6eb-ca8639c87bf2",
        "colab": {
          "base_uri": "https://localhost:8080/",
          "height": 34
        }
      },
      "source": [
        "print(words + name)"
      ],
      "execution_count": 0,
      "outputs": [
        {
          "output_type": "stream",
          "text": [
            "Welcome to SheLovesData Workshop Dalya\n"
          ],
          "name": "stdout"
        }
      ]
    },
    {
      "cell_type": "markdown",
      "metadata": {
        "id": "etXfE9YB9DeB",
        "colab_type": "text"
      },
      "source": [
        "**Comparison operators**\n",
        "\n",
        "In programming you often need to know if an expression is **`True`** or **`False`**.\n",
        "\n",
        "You can evaluate any expression in Python, and get one of two answers, **`True`** or **`False`**.\n",
        "\n",
        "When you compare two values, the expression is evaluated and Python returns the Boolean answer:"
      ]
    },
    {
      "cell_type": "code",
      "metadata": {
        "id": "FwHXwK2l9UVc",
        "colab_type": "code",
        "outputId": "7b174f86-99ed-40af-b02a-00d705510d10",
        "colab": {
          "base_uri": "https://localhost:8080/",
          "height": 68
        }
      },
      "source": [
        "print(10 > 9)\n",
        "print(10 == 9) # make sure you use == instead =\n",
        "print(10 < 9)"
      ],
      "execution_count": 0,
      "outputs": [
        {
          "output_type": "stream",
          "text": [
            "True\n",
            "False\n",
            "False\n"
          ],
          "name": "stdout"
        }
      ]
    },
    {
      "cell_type": "markdown",
      "metadata": {
        "id": "Khu57weh70lv",
        "colab_type": "text"
      },
      "source": [
        "**Comparison operators** are used to compare two values:\n",
        "\n",
        " <table><thead>\n",
        "<tr>\n",
        "<th style=\"text-align: center\">Operator</th>\n",
        "<th>What it means</th>\n",
        "</tr>\n",
        "</thead><tbody>\n",
        "<tr>\n",
        "<td style=\"text-align: center\">==</td>\n",
        "<td>Equal to</td>\n",
        "</tr>\n",
        "<tr>\n",
        "<td style=\"text-align: center\">!=</td>\n",
        "<td>Not equal to</td>\n",
        "</tr>\n",
        "<tr>\n",
        "<td style=\"text-align: center\">&lt;</td>\n",
        "<td>Less than</td>\n",
        "</tr>\n",
        "<tr>\n",
        "<td style=\"text-align: center\">&gt;</td>\n",
        "<td>Greater than</td>\n",
        "</tr>\n",
        "<tr>\n",
        "<td style=\"text-align: center\">&lt;=</td>\n",
        "<td>Less than or equal to</td>\n",
        "</tr>\n",
        "<tr>\n",
        "<td style=\"text-align: center\">&gt;=</td>\n",
        "<td>Greater than or equal to</td>\n",
        "</tr>\n",
        "</tbody></table>"
      ]
    },
    {
      "cell_type": "markdown",
      "metadata": {
        "id": "53Uy1rio-JLW",
        "colab_type": "text"
      },
      "source": [
        "**Task**\n",
        "\n",
        "Create a new variable **`my_age`** and assign the value of your age. \n",
        "\n",
        "Check using operator if you are **18 or over**. "
      ]
    },
    {
      "cell_type": "code",
      "metadata": {
        "id": "SP5bJywh8KnI",
        "colab_type": "code",
        "colab": {}
      },
      "source": [
        "\n"
      ],
      "execution_count": 0,
      "outputs": []
    },
    {
      "cell_type": "markdown",
      "metadata": {
        "id": "F68olfyIBbYl",
        "colab_type": "text"
      },
      "source": [
        "\n",
        "## 3.Conditional Statements"
      ]
    },
    {
      "cell_type": "markdown",
      "metadata": {
        "id": "LLXjilk1BoBJ",
        "colab_type": "text"
      },
      "source": [
        "Python supports the usual logical conditions from mathematics:\n",
        "\n",
        "*   Equals: a == b\n",
        "*   Not Equals: a != b\n",
        "*   Less than: a < b\n",
        "*   Less than or equal to: a <= b\n",
        "*   Greater than: a > b\n",
        "*   Greater than or equal to: a >= b\n",
        "\n",
        "These conditions can be used in several ways, most commonly in **if statements** and **loops**.\n",
        "\n",
        "An *if statement* is written by using the **`if`** keyword."
      ]
    },
    {
      "cell_type": "markdown",
      "metadata": {
        "id": "xZ7ISr_4CTKm",
        "colab_type": "text"
      },
      "source": [
        "**Task**\n",
        "\n",
        "Let's check if you are allowed to order a beer tonight. "
      ]
    },
    {
      "cell_type": "code",
      "metadata": {
        "id": "xkJxLZB0CSZG",
        "colab_type": "code",
        "colab": {}
      },
      "source": [
        "# check if you are over 21\n",
        "if my_age >= 21:\n",
        "  print (\"Enjoy your beer!\")"
      ],
      "execution_count": 0,
      "outputs": []
    },
    {
      "cell_type": "markdown",
      "metadata": {
        "id": "66uAFPRMEGVf",
        "colab_type": "text"
      },
      "source": [
        "The **`elif`** keyword is python's way of saying *if the previous conditions were not true, then try this condition*."
      ]
    },
    {
      "cell_type": "code",
      "metadata": {
        "id": "ZQOrnBkkEG7H",
        "colab_type": "code",
        "outputId": "908ef404-9a9d-4036-d3f5-189a6caa90cc",
        "colab": {
          "base_uri": "https://localhost:8080/",
          "height": 34
        }
      },
      "source": [
        "if my_age > 21:\n",
        "  text = \"Enjoy your beer!\" \n",
        "elif my_age    : # <--- edit the code in order to check if age is equal to 21\n",
        "  text = \"Free beer for you!\"\n",
        "\n",
        "print () # <--- edit the code in order to print the message "
      ],
      "execution_count": 0,
      "outputs": [
        {
          "output_type": "stream",
          "text": [
            "Enjoy your beer!\n"
          ],
          "name": "stdout"
        }
      ]
    },
    {
      "cell_type": "markdown",
      "metadata": {
        "id": "lXxyxc2LExw-",
        "colab_type": "text"
      },
      "source": [
        "The **`else`** keyword catches anything which isn't caught by the preceding conditions."
      ]
    },
    {
      "cell_type": "code",
      "metadata": {
        "id": "wq3YLzTpEyUr",
        "colab_type": "code",
        "outputId": "abcab384-8a84-48e5-8a16-ca5e4f821b9b",
        "colab": {
          "base_uri": "https://localhost:8080/",
          "height": 34
        }
      },
      "source": [
        "if my_age > 21:\n",
        "  text = \"Enjoy your beer!\" \n",
        "elif my_age     :     # <--- edit the code so that program gives appropriate message\n",
        "  text = \"You are 21! Free beer for you!\"\n",
        "else:\n",
        "  text = \"\" # <--- edit the code so that program gives appropriate message\n",
        "\n",
        "print ()   # <--- edit the code in order to print the message "
      ],
      "execution_count": 0,
      "outputs": [
        {
          "output_type": "stream",
          "text": [
            "Enjoy your beer!\n"
          ],
          "name": "stdout"
        }
      ]
    },
    {
      "cell_type": "markdown",
      "metadata": {
        "id": "_brwajP4AA_W",
        "colab_type": "text"
      },
      "source": [
        "## 4. More about List"
      ]
    },
    {
      "cell_type": "markdown",
      "metadata": {
        "id": "RBV5v7iwHcSA",
        "colab_type": "text"
      },
      "source": [
        "We can access the list items by referring to the index number. The first element's intex is **0** :"
      ]
    },
    {
      "cell_type": "code",
      "metadata": {
        "id": "ZbpOgsLpHbUI",
        "colab_type": "code",
        "outputId": "835b8846-9521-4022-c040-10f01172bb83",
        "colab": {
          "base_uri": "https://localhost:8080/",
          "height": 34
        }
      },
      "source": [
        "fruits = [\"apple\", \"banana\", \"cherry\", \"orange\", \"kiwi\", \"melon\", \"mango\"]\n",
        "print(fruits[0])"
      ],
      "execution_count": 0,
      "outputs": [
        {
          "output_type": "stream",
          "text": [
            "apple\n"
          ],
          "name": "stdout"
        }
      ]
    },
    {
      "cell_type": "markdown",
      "metadata": {
        "id": "2rTjHSljICV8",
        "colab_type": "text"
      },
      "source": [
        "**Task**\n",
        "\n",
        "Try printing the 4th element in the **`fruits`**."
      ]
    },
    {
      "cell_type": "code",
      "metadata": {
        "id": "vGFdQOlWIMia",
        "colab_type": "code",
        "colab": {}
      },
      "source": [
        ""
      ],
      "execution_count": 0,
      "outputs": []
    },
    {
      "cell_type": "markdown",
      "metadata": {
        "id": "fcfc_KtfINYw",
        "colab_type": "text"
      },
      "source": [
        "**Range of Indexes**\n",
        "You can specify a range of indexes by specifying where to start and where to end the range.\n",
        "\n",
        "When specifying a range, the return value will be a new list with the specified items."
      ]
    },
    {
      "cell_type": "code",
      "metadata": {
        "id": "yPSmpNkoIXFW",
        "colab_type": "code",
        "outputId": "64872c21-6034-46f1-c1b9-5d2e8f40eb60",
        "colab": {
          "base_uri": "https://localhost:8080/",
          "height": 34
        }
      },
      "source": [
        "print(fruits[2:5])"
      ],
      "execution_count": 0,
      "outputs": [
        {
          "output_type": "stream",
          "text": [
            "['cherry', 'orange', 'kiwi']\n"
          ],
          "name": "stdout"
        }
      ]
    },
    {
      "cell_type": "code",
      "metadata": {
        "id": "eDt_BLuYIiB9",
        "colab_type": "code",
        "outputId": "ea878919-e8b9-4077-998a-ed1c78f3e04e",
        "colab": {
          "base_uri": "https://localhost:8080/",
          "height": 34
        }
      },
      "source": [
        "# try this code\n",
        "print(fruits[:5])   # [:5] means everything before 5th element"
      ],
      "execution_count": 0,
      "outputs": [
        {
          "output_type": "stream",
          "text": [
            "['apple', 'banana', 'cherry', 'orange', 'kiwi']\n"
          ],
          "name": "stdout"
        }
      ]
    },
    {
      "cell_type": "markdown",
      "metadata": {
        "id": "P99CGU1jM71s",
        "colab_type": "text"
      },
      "source": [
        "## 5.Loops"
      ]
    },
    {
      "cell_type": "markdown",
      "metadata": {
        "id": "3-4r8EB_NAD0",
        "colab_type": "text"
      },
      "source": [
        "In Python, loops can be programmed in a number of different ways. The most common is the `for` loop, which is used together with iterable objects, such as lists. The basic syntax is:"
      ]
    },
    {
      "cell_type": "markdown",
      "metadata": {
        "id": "-q313Mj1NCtc",
        "colab_type": "text"
      },
      "source": [
        "### **`for` loops**:"
      ]
    },
    {
      "cell_type": "code",
      "metadata": {
        "id": "Uqz9mF80NS3I",
        "colab_type": "code",
        "outputId": "9fe9e318-b448-4e64-e5c7-7e378ca7547c",
        "colab": {
          "base_uri": "https://localhost:8080/",
          "height": 102
        }
      },
      "source": [
        "numbers = [1,2,3,4,5]\n",
        "for x in numbers:\n",
        "    print(\"number:\", x)"
      ],
      "execution_count": 0,
      "outputs": [
        {
          "output_type": "stream",
          "text": [
            "number: 1\n",
            "number: 2\n",
            "number: 3\n",
            "number: 4\n",
            "number: 5\n"
          ],
          "name": "stdout"
        }
      ]
    },
    {
      "cell_type": "markdown",
      "metadata": {
        "id": "2sIBc0mvNbqM",
        "colab_type": "text"
      },
      "source": [
        "**Task** \n",
        "\n",
        "We already have a list of **`fruits`**, let's print each `fruit` separately."
      ]
    },
    {
      "cell_type": "code",
      "metadata": {
        "id": "Rv1f2gxENagn",
        "colab_type": "code",
        "colab": {}
      },
      "source": [
        ""
      ],
      "execution_count": 0,
      "outputs": []
    },
    {
      "cell_type": "markdown",
      "metadata": {
        "id": "5sHZ8jJ-NO7o",
        "colab_type": "text"
      },
      "source": [
        "**Operations with loops**\n",
        "\n",
        "We can even do operations with the help of loops. Let's add **`10`** to each **`x`** in **`numbers`**"
      ]
    },
    {
      "cell_type": "code",
      "metadata": {
        "id": "PCRNGkKmO4-A",
        "colab_type": "code",
        "outputId": "ac3b5ea4-bf67-4ac0-9089-abef3d2c71cc",
        "colab": {
          "base_uri": "https://localhost:8080/",
          "height": 102
        }
      },
      "source": [
        "for x in numbers:\n",
        "    y = x+10\n",
        "    print(\"new number:\", y)"
      ],
      "execution_count": 0,
      "outputs": [
        {
          "output_type": "stream",
          "text": [
            "new number: 11\n",
            "new number: 12\n",
            "new number: 13\n",
            "new number: 14\n",
            "new number: 15\n"
          ],
          "name": "stdout"
        }
      ]
    },
    {
      "cell_type": "markdown",
      "metadata": {
        "id": "sS6f3NnvQM3W",
        "colab_type": "text"
      },
      "source": [
        "### `while` loops:"
      ]
    },
    {
      "cell_type": "markdown",
      "metadata": {
        "id": "EolePg-VQV1I",
        "colab_type": "text"
      },
      "source": [
        "With the **`while`** loop we can execute a set of statements as long as a condition is **`True`**. The **`while`** loop requires relevant variables to be ready, in the example below we need to define an indexing variable, **`i`**, which we set to **`1`**."
      ]
    },
    {
      "cell_type": "markdown",
      "metadata": {
        "id": "NvkHLEgiQkKf",
        "colab_type": "text"
      },
      "source": [
        "Now let's count to **`10`** using **`while`** loop"
      ]
    },
    {
      "cell_type": "code",
      "metadata": {
        "id": "hyeXGVStQMlQ",
        "colab_type": "code",
        "outputId": "89f19354-87fe-45a6-8991-29f33ff534e6",
        "colab": {
          "base_uri": "https://localhost:8080/"
        }
      },
      "source": [
        "i = 1\n",
        "while i <= 10:\n",
        "    print(i)\n",
        "    i = i + 1\n",
        "    \n",
        "print(\"done\")"
      ],
      "execution_count": 0,
      "outputs": [
        {
          "output_type": "stream",
          "text": [
            "1\n",
            "2\n",
            "3\n",
            "4\n",
            "5\n",
            "6\n",
            "7\n",
            "8\n",
            "9\n",
            "10\n",
            "done\n"
          ],
          "name": "stdout"
        }
      ]
    },
    {
      "cell_type": "markdown",
      "metadata": {
        "id": "dCnf-MYGn1Q4",
        "colab_type": "text"
      },
      "source": [
        "## Useful Links and References \n",
        "\n",
        "---\n",
        "\n",
        "https://www.w3schools.com/python/default.asp - Friendly Python Tutorial\\\n",
        "http://www.python.org - The official web page of the Python programming language.\\\n",
        "https://docs.anaconda.com/anaconda/install/ - Source for Installation of Anaconda\\\n",
        "https://www.datacamp.com/onboarding/learn?technology=python - Python Course\\\n",
        "https://automatetheboringstuff.com/ - Book on Automation of boring stuff with Python\\\n",
        "https://checkio.org/ - Website to practice Python in gaming mode"
      ]
    }
  ]
}